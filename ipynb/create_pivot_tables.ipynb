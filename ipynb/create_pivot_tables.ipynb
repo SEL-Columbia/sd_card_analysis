{
 "metadata": {
  "name": "create_pivot_tables"
 },
 "nbformat": 3,
 "nbformat_minor": 0,
 "worksheets": [
  {
   "cells": [
    {
     "cell_type": "code",
     "collapsed": false,
     "input": [
      "# read in data\n",
      "import pandas as p\n",
      "import numpy as np\n",
      "\n",
      "# read in HDF5 file to data frame\n",
      "store = p.HDFStore('all_sd_card.h5')\n",
      "df = store['df']\n",
      "store.close()"
     ],
     "language": "python",
     "metadata": {},
     "outputs": [
      {
       "output_type": "stream",
       "stream": "stderr",
       "text": [
        "/Library/Frameworks/Python.framework/Versions/7.2/lib/python2.7/site-packages/pytz/__init__.py:35: UserWarning: Module argparse was already imported from /Library/Frameworks/Python.framework/Versions/7.2/lib/python2.7/argparse.pyc, but /Library/Frameworks/Python.framework/Versions/7.2/lib/python2.7/site-packages is being added to sys.path\n",
        "  from pkg_resources import resource_stream\n"
       ]
      }
     ],
     "prompt_number": 1
    },
    {
     "cell_type": "code",
     "collapsed": false,
     "input": [
      "def write_file(df, value, filename):\n",
      "    temp_df = df.pivot(index='meter_time_stamp',\n",
      "                       columns='meter_circuit_name',\n",
      "                       values=value)\n",
      "    # TODO: create proper index with date_range here\n",
      "    rng = p.date_range(start=temp_df.index[0],end=temp_df.index[-1], freq='5min')\n",
      "    temp_df = temp_df.reindex(index=rng)\n",
      "    temp_df.to_csv(filename, index_label='date')"
     ],
     "language": "python",
     "metadata": {},
     "outputs": [],
     "prompt_number": 2
    },
    {
     "cell_type": "code",
     "collapsed": true,
     "input": [
      "# get accumulated energy data\n",
      "value = 'watt_hours_sc20'\n",
      "filename = 'sd_energy_5min.csv'\n",
      "write_file(df, value, filename)"
     ],
     "language": "python",
     "metadata": {},
     "outputs": [],
     "prompt_number": 3
    },
    {
     "cell_type": "code",
     "collapsed": false,
     "input": [
      "# output credit data\n",
      "value = 'credit'\n",
      "filename = 'sd_credit_5min.csv'\n",
      "write_file(df, value, filename)"
     ],
     "language": "python",
     "metadata": {},
     "outputs": [],
     "prompt_number": 4
    },
    {
     "cell_type": "code",
     "collapsed": false,
     "input": [
      "# output power data\n",
      "value = 'watts'\n",
      "filename = '/Users/dsoto/repos/processed_ss_data/sd_card/sd_watts_5min.csv'\n",
      "write_file(df, value, filename)"
     ],
     "language": "python",
     "metadata": {},
     "outputs": []
    }
   ],
   "metadata": {}
  }
 ]
}