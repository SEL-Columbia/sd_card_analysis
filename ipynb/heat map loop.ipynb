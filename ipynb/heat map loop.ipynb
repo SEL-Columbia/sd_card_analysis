{
 "metadata": {
  "name": "heat map loop"
 },
 "nbformat": 3,
 "nbformat_minor": 0,
 "worksheets": [
  {
   "cells": [
    {
     "cell_type": "code",
     "collapsed": false,
     "input": [
      "import pandas as p\n",
      "import numpy as np\n",
      "# read in HDF5 file to data frame\n",
      "store = p.HDFStore('ugall.h5')\n",
      "df = store['df']\n",
      "store.close()"
     ],
     "language": "python",
     "metadata": {},
     "outputs": [
      {
       "output_type": "stream",
       "stream": "stderr",
       "text": [
        "/Library/Frameworks/Python.framework/Versions/7.2/lib/python2.7/site-packages/pytz/__init__.py:35: UserWarning: Module argparse was already imported from /Library/Frameworks/Python.framework/Versions/7.2/lib/python2.7/argparse.pyc, but /Library/Frameworks/Python.framework/Versions/7.2/lib/python2.7/site-packages is being added to sys.path\n",
        "  from pkg_resources import resource_stream\n"
       ]
      }
     ],
     "prompt_number": 1
    },
    {
     "cell_type": "code",
     "collapsed": true,
     "input": [
      "value = 'watts'\n",
      "all_watts = df.pivot(index='meter_time_stamp',\n",
      "                      columns='meter_circuit_name',\n",
      "                      values=value)\n",
      "value = 'credit'\n",
      "all_credit = df.pivot(index='meter_time_stamp',\n",
      "                      columns='meter_circuit_name',\n",
      "                      values=value)\n"
     ],
     "language": "python",
     "metadata": {},
     "outputs": [],
     "prompt_number": 2
    },
    {
     "cell_type": "code",
     "collapsed": false,
     "input": [
      "for c in all_watts.columns:\n",
      "#for c in ['ug08_00']:\n",
      "    credit = all_credit[c]\n",
      "    watts = all_watts[c]\n",
      "    # look at watts\n",
      "    watts[credit<=50]=1000\n",
      "    watts = watts.resample('H')\n",
      "    wgb = watts.groupby(watts.index.hour)\n",
      "    dfl = {}\n",
      "    for name, group in wgb:\n",
      "        temp = group.resample('H', fill_method='pad')\n",
      "        temp = temp.resample('D')\n",
      "        dfl[name]=temp\n",
      "    df = p.DataFrame(dfl)\n",
      "    # pad missing data\n",
      "    df = df.fillna(0)\n",
      "    import matplotlib.pyplot as plt\n",
      "    fig, ax = plt.subplots(1, 1)\n",
      "    plot = ax.imshow(df, aspect='auto', interpolation='none')\n",
      "    ax.set_title(c)\n",
      "    fig.colorbar(plot)\n",
      "    plt.show()"
     ],
     "language": "python",
     "metadata": {},
     "outputs": [],
     "prompt_number": "*"
    },
    {
     "cell_type": "code",
     "collapsed": true,
     "input": [
      "qtconsole"
     ],
     "language": "python",
     "metadata": {},
     "outputs": [],
     "prompt_number": 9
    }
   ],
   "metadata": {}
  }
 ]
}