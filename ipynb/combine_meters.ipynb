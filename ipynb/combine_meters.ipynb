{
 "metadata": {
  "name": "combine_meters"
 },
 "nbformat": 3,
 "nbformat_minor": 0,
 "worksheets": [
  {
   "cells": [
    {
     "cell_type": "code",
     "collapsed": false,
     "input": [
      "# this script combines multiple csv files that have been created using export_sd_to_csv.py\n",
      "\n",
      "# it accomplishes this by concatenating all csv files into a single data frame\n",
      "# then a unique string is created that identifies each circuit\n",
      "# a column is created from this string\n",
      "\n",
      "# this has columns for all values of watts, volts, credit, etc.\n",
      "# to make an easily analyzed file we must pivot the data"
     ],
     "language": "python",
     "metadata": {},
     "outputs": [],
     "prompt_number": 1
    },
    {
     "cell_type": "code",
     "collapsed": false,
     "input": [
      "import pandas as p\n",
      "base_directory = '/Volumes/dsoto-archive/processed/'\n",
      "dfl = []\n",
      "for filename in ['ug01.csv', 'ug02.csv', 'ug03.csv', \n",
      "                 'ug04.csv', 'ug05.csv', 'ug06.csv', 'ug08.csv',\n",
      "                 'ml00.csv', 'ml01.csv', 'ml02.csv', 'ml03.csv',\n",
      "                 'ml04.csv', 'ml05.csv', 'ml06.csv', 'ml07.csv',\n",
      "                 'ml08.csv']:\n",
      "    dfl.append(p.read_csv(base_directory + filename))\n",
      "df = p.concat(dfl, ignore_index=True)\n",
      "\n",
      "# parse dates\n",
      "import dateutil\n",
      "df['meter_time_stamp'] = [dateutil.parser.parse(i) for i in df['meter_time_stamp']]\n",
      "df['sc20_time_stamp'] = [dateutil.parser.parse(i) for i in df['sc20_time_stamp']]\n",
      "\n",
      "\n",
      "# add column that is the string concat of meter_name + physical_circuit\n",
      "df['meter_circuit_name'] = [mn+'_%02d'%pc for mn, pc in zip(df['meter_name'], df['physical_circuit'])]"
     ],
     "language": "python",
     "metadata": {},
     "outputs": [
      {
       "output_type": "stream",
       "stream": "stderr",
       "text": [
        "/Library/Frameworks/Python.framework/Versions/7.2/lib/python2.7/site-packages/pytz/__init__.py:35: UserWarning: Module argparse was already imported from /Library/Frameworks/Python.framework/Versions/7.2/lib/python2.7/argparse.pyc, but /Library/Frameworks/Python.framework/Versions/7.2/lib/python2.7/site-packages is being added to sys.path\n",
        "  from pkg_resources import resource_stream\n"
       ]
      }
     ],
     "prompt_number": 2
    },
    {
     "cell_type": "code",
     "collapsed": true,
     "input": [
      "# write out to HDF5\n",
      "store = p.HDFStore('all_sd_card.h5')\n",
      "store['df'] = df\n",
      "store.close()"
     ],
     "language": "python",
     "metadata": {},
     "outputs": [],
     "prompt_number": 19
    },
    {
     "cell_type": "code",
     "collapsed": false,
     "input": [
      "df.to_csv('all_sd_card.csv')"
     ],
     "language": "python",
     "metadata": {},
     "outputs": [],
     "prompt_number": 20
    },
    {
     "cell_type": "code",
     "collapsed": false,
     "input": [
      "df"
     ],
     "language": "python",
     "metadata": {},
     "outputs": [
      {
       "output_type": "pyout",
       "prompt_number": 18,
       "text": [
        "<class 'pandas.core.frame.DataFrame'>\n",
        "Int64Index: 1874670 entries, 0 to 1874669\n",
        "Data columns:\n",
        "Unnamed: 0            1508178  non-null values\n",
        "amps                  1874670  non-null values\n",
        "credit                1448138  non-null values\n",
        "frequency             1874670  non-null values\n",
        "idx                   366492  non-null values\n",
        "machine_id            1874670  non-null values\n",
        "max_amps              1874670  non-null values\n",
        "max_volts             1874670  non-null values\n",
        "max_watts             1874670  non-null values\n",
        "meter_name            1874670  non-null values\n",
        "meter_time_stamp      1874670  non-null values\n",
        "min_amps              1874670  non-null values\n",
        "min_volts             1874670  non-null values\n",
        "min_watts             1874670  non-null values\n",
        "physical_circuit      1874670  non-null values\n",
        "power_cycle           1874670  non-null values\n",
        "power_factor          1874670  non-null values\n",
        "relay_not_closed      1874670  non-null values\n",
        "sc20_time_stamp       1874670  non-null values\n",
        "send_rate             1874670  non-null values\n",
        "type                  1874670  non-null values\n",
        "volt_amps             1874670  non-null values\n",
        "volts                 1874670  non-null values\n",
        "watt_hours_sc20       1874670  non-null values\n",
        "watt_hours_today      1874670  non-null values\n",
        "watts                 1874670  non-null values\n",
        "meter_circuit_name    1874670  non-null values\n",
        "dtypes: float64(22), object(5)"
       ]
      }
     ],
     "prompt_number": 18
    }
   ],
   "metadata": {}
  }
 ]
}