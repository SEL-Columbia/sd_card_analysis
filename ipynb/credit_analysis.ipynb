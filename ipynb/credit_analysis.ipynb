{
 "metadata": {
  "name": "credit_analysis"
 },
 "nbformat": 3,
 "nbformat_minor": 0,
 "worksheets": [
  {
   "cells": [
    {
     "cell_type": "code",
     "collapsed": false,
     "input": [
      "import pandas as p\n",
      "import numpy as np\n",
      "# read in HDF5 file to data frame\n",
      "store = p.HDFStore('ugall.h5')\n",
      "df = store['df']\n",
      "store.close()"
     ],
     "language": "python",
     "metadata": {},
     "outputs": [
      {
       "output_type": "stream",
       "stream": "stderr",
       "text": [
        "/Library/Frameworks/Python.framework/Versions/7.2/lib/python2.7/site-packages/pytz/__init__.py:35: UserWarning: Module argparse was already imported from /Library/Frameworks/Python.framework/Versions/7.2/lib/python2.7/argparse.pyc, but /Library/Frameworks/Python.framework/Versions/7.2/lib/python2.7/site-packages is being added to sys.path\n",
        "  from pkg_resources import resource_stream\n"
       ]
      }
     ],
     "prompt_number": 2
    },
    {
     "cell_type": "code",
     "collapsed": true,
     "input": [
      "value = 'credit'\n",
      "credit = df.pivot(index='meter_time_stamp',\n",
      "                      columns='meter_circuit_name',\n",
      "                      values=value)\n",
      "value = 'watt_hours_sc20'\n",
      "watt_hours = df.pivot(index='meter_time_stamp',\n",
      "                      columns='meter_circuit_name',\n",
      "                      values=value)"
     ],
     "language": "python",
     "metadata": {},
     "outputs": [],
     "prompt_number": "*"
    },
    {
     "cell_type": "code",
     "collapsed": false,
     "input": [
      "#meter_name = 'ug01_01'\n",
      "for meter_name in credit.columns:\n",
      "    hourly_credit = credit[meter_name] - credit[meter_name].shift(1)\n",
      "    hourly_energy = watt_hours[meter_name] - watt_hours[meter_name].shift(1)\n",
      "    tariff = hourly_credit/hourly_energy\n",
      "    tariff[tariff > 0] = 1\n",
      "    import matplotlib.pyplot as plt\n",
      "    tariff.plot(style='ko')\n",
      "    plt.title(meter_name)\n",
      "    plt.show()"
     ],
     "language": "python",
     "metadata": {},
     "outputs": [],
     "prompt_number": "*"
    },
    {
     "cell_type": "code",
     "collapsed": true,
     "input": [
      "qtconsole"
     ],
     "language": "python",
     "metadata": {},
     "outputs": [],
     "prompt_number": 12
    }
   ],
   "metadata": {}
  }
 ]
}