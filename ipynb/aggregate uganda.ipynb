{
 "metadata": {
  "name": "aggregate uganda"
 },
 "nbformat": 3,
 "nbformat_minor": 0,
 "worksheets": [
  {
   "cells": [
    {
     "cell_type": "code",
     "collapsed": false,
     "input": [
      "import pandas as p\n",
      "import numpy as np\n",
      "import matplotlib.pyplot as plt\n",
      "\n",
      "# read in HDF5 file to data frame\n",
      "store = p.HDFStore('ugall.h5')\n",
      "df = store['df']\n",
      "store.close()"
     ],
     "language": "python",
     "metadata": {},
     "outputs": [],
     "prompt_number": 11
    },
    {
     "cell_type": "code",
     "collapsed": false,
     "input": [
      "# get watt hour data\n",
      "value = 'watt_hours_sc20'\n",
      "watt_hours = df.pivot(index='meter_time_stamp',\n",
      "                      columns='meter_circuit_name',\n",
      "                      values=value)\n",
      "# sample hourly\n",
      "watt_hours_hourly = watt_hours.resample('H')\n",
      "# diff to get power\n",
      "watts_hourly = watt_hours_hourly.diff()\n",
      "# set reset events (negative numbers) to nan\n",
      "watts_hourly[watts_hourly<0] = np.nan\n",
      "# set missing to zero for simplicity\n",
      "watts_hourly = watts_hourly.fillna(0)"
     ],
     "language": "python",
     "metadata": {},
     "outputs": [],
     "prompt_number": 13
    },
    {
     "cell_type": "code",
     "collapsed": false,
     "input": [
      "# create multiindex\n",
      "mcol = [(c[2:4],c[-2:]) for c in watts_hourly.columns]\n",
      "mcolidx = p.MultiIndex.from_tuples(mcol, names=('meter','circuit'))\n",
      "whmi = p.DataFrame(data=watts_hourly.values, \n",
      "                   index=watts_hourly.index, \n",
      "                   columns=mcolidx)\n",
      "whmi = whmi.T"
     ],
     "language": "python",
     "metadata": {},
     "outputs": [],
     "prompt_number": 14
    },
    {
     "cell_type": "code",
     "collapsed": false,
     "input": [
      "grouped = whmi.groupby(level=0)\n",
      "sums = grouped.sum()"
     ],
     "language": "python",
     "metadata": {},
     "outputs": [],
     "prompt_number": 15
    },
    {
     "cell_type": "code",
     "collapsed": false,
     "input": [
      "sums = sums.T"
     ],
     "language": "python",
     "metadata": {},
     "outputs": [],
     "prompt_number": 16
    },
    {
     "cell_type": "code",
     "collapsed": false,
     "input": [
      "sums.plot()\n",
      "plt.show()"
     ],
     "language": "python",
     "metadata": {},
     "outputs": [
      {
       "output_type": "pyout",
       "prompt_number": 17,
       "text": [
        "<matplotlib.axes.AxesSubplot at 0xb0d61d0>"
       ]
      }
     ],
     "prompt_number": 17
    },
    {
     "cell_type": "code",
     "collapsed": false,
     "input": [
      "# adds aggregate column\n",
      "sums['sum'] = sums.sum(axis=1)"
     ],
     "language": "python",
     "metadata": {},
     "outputs": [],
     "prompt_number": 25
    },
    {
     "cell_type": "code",
     "collapsed": false,
     "input": [
      "sums.to_csv('uganda_aggregated.csv')"
     ],
     "language": "python",
     "metadata": {},
     "outputs": [],
     "prompt_number": 26
    },
    {
     "cell_type": "code",
     "collapsed": false,
     "input": [
      "qtconsole"
     ],
     "language": "python",
     "metadata": {},
     "outputs": [],
     "prompt_number": 20
    },
    {
     "cell_type": "code",
     "collapsed": false,
     "input": [],
     "language": "python",
     "metadata": {},
     "outputs": []
    }
   ],
   "metadata": {}
  }
 ]
}