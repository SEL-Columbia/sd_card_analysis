{
 "metadata": {
  "name": "daily_energy"
 },
 "nbformat": 3,
 "nbformat_minor": 0,
 "worksheets": [
  {
   "cells": [
    {
     "cell_type": "code",
     "collapsed": false,
     "input": [
      "# read in data\n",
      "import pandas as p\n",
      "import numpy as np\n",
      "# read in HDF5 file to data frame\n",
      "store = p.HDFStore('ugall.h5')\n",
      "df = store['df']\n",
      "store.close()"
     ],
     "language": "python",
     "metadata": {},
     "outputs": [
      {
       "output_type": "stream",
       "stream": "stderr",
       "text": [
        "/Library/Frameworks/Python.framework/Versions/7.2/lib/python2.7/site-packages/pytz/__init__.py:35: UserWarning: Module argparse was already imported from /Library/Frameworks/Python.framework/Versions/7.2/lib/python2.7/argparse.pyc, but /Library/Frameworks/Python.framework/Versions/7.2/lib/python2.7/site-packages is being added to sys.path\n",
        "  from pkg_resources import resource_stream\n"
       ]
      }
     ],
     "prompt_number": 1
    },
    {
     "cell_type": "code",
     "collapsed": true,
     "input": [
      "# get watt hour data\n",
      "value = 'watt_hours_sc20'\n",
      "watt_hours = df.pivot(index='meter_time_stamp',\n",
      "                      columns='meter_circuit_name',\n",
      "                      values=value)"
     ],
     "language": "python",
     "metadata": {},
     "outputs": [],
     "prompt_number": 2
    },
    {
     "cell_type": "code",
     "collapsed": false,
     "input": [
      "# drop mains columns\n",
      "for c in watt_hours.columns:\n",
      "    if '00' in c:\n",
      "        watt_hours.pop(c)"
     ],
     "language": "python",
     "metadata": {},
     "outputs": [],
     "prompt_number": 3
    },
    {
     "cell_type": "code",
     "collapsed": true,
     "input": [
      "# sample daily energy using diff\n",
      "import matplotlib.pyplot as plt\n",
      "# get daily energy\n",
      "whd = watt_hours.resample('D')\n",
      "# take differences\n",
      "whdd = whd.diff()\n",
      "# drop negatives\n",
      "whdd[whdd<0] = np.nan\n",
      "# take mean\n",
      "#means = whdd.mean()\n",
      "#whdd = whdd/means\n",
      "#whdd = whdd / whdd.median()\n",
      "whdd = whdd / whdd.mean()\n",
      "#means.hist(bins=[0,10,20,30,40,50,60,70,80,90,100])\n",
      "#means.plot(kind='bar')\n",
      "whdd.boxplot()\n",
      "plt.show()"
     ],
     "language": "python",
     "metadata": {},
     "outputs": [],
     "prompt_number": 4
    },
    {
     "cell_type": "code",
     "collapsed": true,
     "input": [
      "qtconsole"
     ],
     "language": "python",
     "metadata": {},
     "outputs": [],
     "prompt_number": 5
    },
    {
     "cell_type": "code",
     "collapsed": false,
     "input": [
      ".to_csv('watthours_uganda.csv')"
     ],
     "language": "python",
     "metadata": {},
     "outputs": [],
     "prompt_number": 4
    },
    {
     "cell_type": "code",
     "collapsed": false,
     "input": [],
     "language": "python",
     "metadata": {},
     "outputs": []
    }
   ],
   "metadata": {}
  }
 ]
}