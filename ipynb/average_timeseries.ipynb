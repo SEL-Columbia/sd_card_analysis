{
 "metadata": {
  "name": "average_timeseries"
 },
 "nbformat": 3,
 "nbformat_minor": 0,
 "worksheets": [
  {
   "cells": [
    {
     "cell_type": "code",
     "collapsed": false,
     "input": [
      "# read in csv to data frame\n",
      "%pylab inline\n",
      "import pandas as pd\n",
      "import numpy as np\n",
      "import matplotlib.pyplot as plt\n",
      "sd_watts = pd.read_csv('/Users/dsoto/repos/processed_ss_data/sd_card/sd_watts_5min.csv', \n",
      "                        index_col='date', \n",
      "                        parse_dates=True)"
     ],
     "language": "python",
     "metadata": {},
     "outputs": [
      {
       "output_type": "stream",
       "stream": "stdout",
       "text": [
        "\n",
        "Welcome to pylab, a matplotlib-based Python environment [backend: module://IPython.zmq.pylab.backend_inline].\n",
        "For more information, type 'help(pylab)'.\n"
       ]
      }
     ],
     "prompt_number": 1
    },
    {
     "cell_type": "code",
     "collapsed": false,
     "input": [
      "#col = 'ml05_11'\n",
      "ds = '2012-01-01'\n",
      "de = '2012-06-01'\n",
      "\n",
      "# algorithm to average timeseries\n",
      "\n",
      "data_list = []\n",
      "labels = []\n",
      "\n",
      "mean_power = {}\n",
      "median_power = {}\n",
      "for col in sd_watts.columns:\n",
      "#for col in ['ml05_11', 'ml05_12']:\n",
      "    if '_00' in col:\n",
      "        continue\n",
      "    # skip uganda meters\n",
      "    if 'ug' in col:\n",
      "        continue\n",
      "    # loop over days in range\n",
      "    # subselect one circuit of data over time frame and replace missing with zeros\n",
      "    data = sd_watts[col][ds:de].fillna(0)\n",
      "    # 288 samples per day for 5 minute data\n",
      "    stride = 288\n",
      "    # accumulator \n",
      "    a = np.zeros(stride)\n",
      "    for i in range(0, 8640, stride):\n",
      "        a = np.vstack((a, data.ix[i:i + stride]))\n",
      "    # could use median instead of mean here\n",
      "    median_power[col] = np.median(a, 0)\n",
      "    mean_power[col] = np.mean(a, 0)\n",
      "    \n",
      "mean_power = pd.DataFrame(mean_power)\n",
      "median_power = pd.DataFrame(median_power)"
     ],
     "language": "python",
     "metadata": {},
     "outputs": [],
     "prompt_number": 12
    },
    {
     "cell_type": "code",
     "collapsed": false,
     "input": [
      "#mean_power.plot()"
     ],
     "language": "python",
     "metadata": {},
     "outputs": [],
     "prompt_number": 15
    },
    {
     "cell_type": "code",
     "collapsed": false,
     "input": [
      "#median_power.plot()"
     ],
     "language": "python",
     "metadata": {},
     "outputs": [],
     "prompt_number": 16
    },
    {
     "cell_type": "code",
     "collapsed": false,
     "input": [],
     "language": "python",
     "metadata": {},
     "outputs": []
    }
   ],
   "metadata": {}
  }
 ]
}