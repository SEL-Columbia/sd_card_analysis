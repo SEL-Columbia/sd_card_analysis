{
 "metadata": {
  "name": "read_sd_energy"
 },
 "nbformat": 3,
 "nbformat_minor": 0,
 "worksheets": [
  {
   "cells": [
    {
     "cell_type": "code",
     "collapsed": false,
     "input": [
      "# look at newly minted mali data\n",
      "import pandas as p\n",
      "credit = p.read_csv('sd_credit.csv')\n",
      "energy = p.read_csv('sd_energy.csv')"
     ],
     "language": "python",
     "metadata": {},
     "outputs": [],
     "prompt_number": 6
    },
    {
     "cell_type": "code",
     "collapsed": false,
     "input": [
      "credit['ml01_11'].plot(style='k-')\n",
      "energy['ml01_11'].plot(style='b-')\n",
      "import matplotlib.pyplot as plt\n",
      "plt.show()"
     ],
     "language": "python",
     "metadata": {},
     "outputs": [],
     "prompt_number": 9
    },
    {
     "cell_type": "code",
     "collapsed": false,
     "input": [],
     "language": "python",
     "metadata": {},
     "outputs": []
    }
   ],
   "metadata": {}
  }
 ]
}