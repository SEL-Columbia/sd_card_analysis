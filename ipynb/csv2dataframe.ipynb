{
 "metadata": {
  "name": "csv2dataframe"
 }, 
 "nbformat": 2, 
 "worksheets": [
  {
   "cells": [
    {
     "cell_type": "code", 
     "collapsed": true, 
     "input": [
      "import pandas as p", 
      "import dateutil", 
      "import datetime as dt"
     ], 
     "language": "python", 
     "outputs": [], 
     "prompt_number": 1
    }, 
    {
     "cell_type": "code", 
     "collapsed": true, 
     "input": [
      "# load file", 
      "df = p.read_csv('../data/ml03/2012/01/01/20/192_168_1_200.log')"
     ], 
     "language": "python", 
     "outputs": [], 
     "prompt_number": 2
    }, 
    {
     "cell_type": "code", 
     "collapsed": true, 
     "input": [
      "# map datetime object onto timestamp column", 
      "df['Time Stamp'] = df['Time Stamp'].map(str)", 
      "df['Time Stamp'] = df['Time Stamp'].map(dateutil.parser.parse)"
     ], 
     "language": "python", 
     "outputs": [], 
     "prompt_number": 3
    }, 
    {
     "cell_type": "code", 
     "collapsed": false, 
     "input": [
      "# create pandas date range and iterate", 
      "# if current timestamp is less than or equal to iterated timestamp", 
      "# greater, mark blank and continue", 
      "ds = dt.datetime(2012,1,1,20)", 
      "de = dt.datetime(2012,1,1,21)", 
      "dr = p.DateRange(ds, de, offset=p.DateOffset(seconds=5*60))", 
      "for i in range(len(dr) - 1):", 
      "    # get values in time range", 
      "    first_sample = min(df[(df['Time Stamp'] >= dr[i]) & (df['Time Stamp'] < dr[i + 1])].index)", 
      "    # select first value in range", 
      "    print df.ix[first_sample]['Time Stamp']"
     ], 
     "language": "python", 
     "outputs": [], 
     "prompt_number": 47
    }
   ]
  }
 ]
}