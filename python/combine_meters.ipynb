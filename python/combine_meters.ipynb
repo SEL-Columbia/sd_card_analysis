{
 "metadata": {
  "name": "combine_meters"
 }, 
 "nbformat": 2, 
 "worksheets": [
  {
   "cells": [
    {
     "cell_type": "code", 
     "collapsed": false, 
     "input": [
      "import pandas as p", 
      "dfl = []", 
      "for filename in ['ug01.csv', 'ug02.csv', 'ug03.csv', 'ug04.csv', 'ug05.csv', 'ug06.csv', 'ug08.csv']:", 
      "    dfl.append(p.read_csv(filename))", 
      "df = p.concat(dfl, ignore_index=True)", 
      "", 
      "# parse dates", 
      "import dateutil", 
      "df['meter_time_stamp'] = [dateutil.parser.parse(i) for i in df['meter_time_stamp']]", 
      "df['sc20_time_stamp'] = [dateutil.parser.parse(i) for i in df['sc20_time_stamp']]", 
      "", 
      "", 
      "# add column that is the string concat of meter_name + physical_circuit", 
      "df['meter_circuit_name']=[mn+'_%02d'%pc for mn, pc in zip(df['meter_name'], df['physical_circuit'])]"
     ], 
     "language": "python", 
     "outputs": [], 
     "prompt_number": 98
    }, 
    {
     "cell_type": "code", 
     "collapsed": false, 
     "input": [
      "# write out to HDF5", 
      "store = p.HDFStore('ugall.h5')", 
      "store['df'] = df", 
      "store.close()"
     ], 
     "language": "python", 
     "outputs": [], 
     "prompt_number": 102
    }, 
    {
     "cell_type": "code", 
     "collapsed": true, 
     "input": [
      "# write out to CSV", 
      "df.to_csv('ugall.csv')"
     ], 
     "language": "python", 
     "outputs": [], 
     "prompt_number": 73
    }, 
    {
     "cell_type": "code", 
     "collapsed": false, 
     "input": [
      "# pivot data ", 
      "allwatts = df.pivot(index='meter_time_stamp',", 
      "         columns='meter_circuit_name',", 
      "         values='watts')"
     ], 
     "language": "python", 
     "outputs": [], 
     "prompt_number": 47
    }, 
    {
     "cell_type": "code", 
     "collapsed": false, 
     "input": [
      "# map out heatmap", 
      "import sd_card_analysis as sda", 
      "sda.heatmap('ugall.h5', column='watts')"
     ], 
     "language": "python", 
     "outputs": [], 
     "prompt_number": 115
    }
   ]
  }
 ]
}